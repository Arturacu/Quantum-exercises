{
 "cells": [
  {
   "cell_type": "code",
   "execution_count": 217,
   "metadata": {},
   "outputs": [],
   "source": [
    "from qiskit import *\n",
    "import numpy as np\n",
    "import random\n",
    "import matplotlib.pyplot as plt\n",
    "from matplotlib import rcParams\n",
    "random.seed(39)"
   ]
  },
  {
   "cell_type": "markdown",
   "metadata": {},
   "source": [
    "# Task 2\n",
    "\n",
    "\n",
    "\n",
    "## Task description  <a class=\"anchor\" id=\"task-description\"></a>\n",
    "\n",
    "Implement a circuit which returns |00> and |11> with equal probability.\n",
    "Requirements :\n",
    "- Circuit should consist only of CNOTs, RXs and RYs. \n",
    "- Start from all parameters in parametric gates being equal to 0 or randomly chosen. \n",
    "- You should find the right set of parameters using gradient descent (you might use more advanced optimization methods if you like). \n",
    "- Simulations must be done with sampling - i.e. limited number of measurements per iteration and noise. \n",
    "\n",
    "Compare the results for different numbers of measurements: 1, 10, 100, 1000. \n",
    "\n",
    "_Bonus question:\n",
    "How to make sure you produce state |00>+|11> and not |00>-|11> ?_\n",
    "\n",
    "\n",
    "\n",
    "### Table of Contents\n",
    "\n",
    "* [How to tackle down the problem?](#tackle-down)\n",
    "    * [One parameter approach](#one-parameter)\n",
    "    * [Gradient descent](#gradient-descent)\n",
    "    * [Estimating theta](#estimating-parameter)\n",
    "* [General Solution to the task](#general-solution)"
   ]
  },
  {
   "cell_type": "markdown",
   "metadata": {},
   "source": [
    "# How to tackle down the problem?<a class=\"anchor\" id=\"tackle-down\"></a>\n",
    "\n",
    "It is noteworthy that the problem at hand is to find a way of generating a entangled Bell state using CNOTs, RXs and RYs. This quantum state is usually obtained using the following circuit:"
   ]
  },
  {
   "cell_type": "code",
   "execution_count": 218,
   "metadata": {},
   "outputs": [
    {
     "data": {
      "image/png": "[encoded data removed]",
      "text/plain": [
       "<Figure size 276.92x144.48 with 1 Axes>"
      ]
     },
     "execution_count": 218,
     "metadata": {},
     "output_type": "execute_result"
    }
   ],
   "source": [
    "qc = QuantumCircuit(2) # We create a quantum circuit with 2 qubits\n",
    "qc.h(0) # We apply Hadamard on the qubit-0\n",
    "qc.cx(0,1) # Then we perform a CNOT operation with qubit-0 being the control and qubit-1 the objective\n",
    "qc.draw(output='mpl')"
   ]
  },
  {
   "cell_type": "markdown",
   "metadata": {},
   "source": [
    "Measuring the circuit presented above will output |00> and |11> with equal probability (50% of the time each). As the task was designed to be doable with basic QC knowledge, we will not approach the problem by using a universal variational form built from CNOTs, RXs and RYs. Instead, we will design a experiment we know beforehand will converge to an optimal solution using just one variational parameter to simplify the optimization algorithm (a circuit which is similar to the circuit above used to create a entangled Bell state).\n",
    "\n",
    "## One parameter approach <a class=\"anchor\" id=\"one-parameter\"></a>\n",
    "\n",
    "We draw now the circuit we will use to obtain an optimal parameter which will lead us to an output of |00> and |11> with equal probability:\n"
   ]
  },
  {
   "cell_type": "code",
   "execution_count": 219,
   "metadata": {},
   "outputs": [
    {
     "data": {
      "image/png": "[encoded data removed]",
      "text/plain": [
       "<Figure size 397.32x204.68 with 1 Axes>"
      ]
     },
     "execution_count": 219,
     "metadata": {},
     "output_type": "execute_result"
    }
   ],
   "source": [
    "def generateCircuit(theta):\n",
    "    circuit = QuantumCircuit(2,2) \n",
    "    circuit.ry(theta,0) \n",
    "    circuit.cx(0,1)\n",
    "    circuit.measure([0,1],[0,1])\n",
    "    return circuit\n",
    "\n",
    "generateCircuit(0).draw(output='mpl')"
   ]
  },
  {
   "cell_type": "markdown",
   "metadata": {},
   "source": [
    "#### Is there a parameter which will lead us to our objective result using the circuit above?\n",
    "\n",
    "The answer to this question is: yes, there is a parameter $\\theta =\\frac{\\pi}{2}$ which will cause our circuit to output |00> and |11> with equal probability. One can try to generate some outputs in order to get a feeling of what the circuit is doing. By using a simulator we will carry out some measurements to check whether or not our hypothesis was leading us to the right way: "
   ]
  },
  {
   "cell_type": "code",
   "execution_count": 220,
   "metadata": {},
   "outputs": [
    {
     "name": "stdout",
     "output_type": "stream",
     "text": [
      "{'00': 496, '11': 504}\n"
     ]
    }
   ],
   "source": [
    "circuit = generateCircuit(np.pi/2)\n",
    "\n",
    "results = execute(circuit, backend=BasicAer.get_backend('qasm_simulator'), shots=1000).result().get_counts()\n",
    "\n",
    "print(results)"
   ]
  },
  {
   "cell_type": "markdown",
   "metadata": {},
   "source": [
    "The experimental result obtained above should encaurages us to use the circuit in order to solve the task. Nevertheless, a formal proof can be obtained to confirm our approach. At the end of this notebook a formal proof is presented.  \n",
    "\n",
    "## Gradient descent  <a class=\"anchor\" id=\"gradient-descent\"></a>\n",
    "\n",
    "We know proceed to implement an optimization algorithm to find out an optimal value of theta which will output |00> and |11> with equal probability. In order to do this we have to state a function which we will minimize based on the performance of our measurements on the circuit. A simple way to estimate how far is our output from the objective is to estimate the expression of our vector in a 4-dimensional Hilbert space and substract it from the objective vector. As we want just values |00> and |11> to output we will not care about phases. This idea goes as follows:\n",
    "\n",
    "$$ \n",
    "Objective: V = \\begin{pmatrix} \\frac{1}{\\sqrt2} \\\\ 0 \\\\ 0 \\\\ \\frac{1}{\\sqrt2} \\end{pmatrix} = \\frac{ | 00 \\rangle +  | 11 \\rangle }{\\sqrt2}\n",
    "$$\n",
    "\n",
    "$$ \n",
    "Current: C({\\theta}) = \\begin{pmatrix} a \\\\ b \\\\ c \\\\ d \\end{pmatrix} = a | 00 \\rangle + b | 01 \\rangle + c | 10 \\rangle + d | 11 \\rangle\n",
    "$$\n",
    "\n",
    "So we want to minimize:\n",
    "$$\n",
    " F(\\theta) = \\left\\lVert V - C(\\theta) \\right\\rVert_{2}\n",
    "$$\n",
    "\n",
    "Note that the current vector $C(\\theta)$ can be obtained experimentally using the Born's law.\n",
    "\n",
    "### Gradient descent formulae\n",
    "\n",
    "The steps we will follow to carry out the gradient descent algorithm are portrayed below:\n",
    "\n",
    "$$\n",
    "\\theta := \\theta - \\alpha \\frac{\\partial F(\\theta)}{\\partial \\theta} \n",
    "$$\n",
    "\n",
    "where $\\alpha$ is the learning rate. $\\frac{\\partial F}{\\partial \\theta}$ will be estimated using the finite difference method:\n",
    "\n",
    "$$\n",
    "\\frac{\\partial F}{\\partial \\theta}  = \\frac{F(\\theta + h) - F(\\theta)}{h}\n",
    "$$\n",
    "where $h$ is a small value.\n",
    "\n",
    "### Function evaluation\n",
    "\n",
    "We will now present a function which will take a $\\theta$ parameter and calculate the value of the function $F$ given above (it will also receive as a parameter the number of measurements it will have to carry out to estimate the output vector). \n"
   ]
  },
  {
   "cell_type": "code",
   "execution_count": 221,
   "metadata": {},
   "outputs": [],
   "source": [
    "def evaluateFunction(theta, number_measurements):\n",
    "    \n",
    "    results = execute(generateCircuit(theta), backend=BasicAer.get_backend('qasm_simulator'), \n",
    "                      shots=number_measurements).result().get_counts()\n",
    "    \n",
    "    c_vector = np.array([0,0,0,0])\n",
    "    c_vector[0] = results.get(\"00\", 0)\n",
    "    c_vector[1] = results.get(\"01\", 0)\n",
    "    c_vector[2] = results.get(\"10\", 0)\n",
    "    c_vector[3] = results.get(\"11\", 0)\n",
    "    c_vector = c_vector / np.linalg.norm(c_vector,ord=2)\n",
    "\n",
    "    objective_vector = np.array([1/np.sqrt(2), 0,0, 1/np.sqrt(2)])\n",
    "    \n",
    "    return np.linalg.norm(objective_vector - c_vector, ord=2)"
   ]
  },
  {
   "cell_type": "markdown",
   "metadata": {},
   "source": [
    "## Estimating theta  <a class=\"anchor\" id=\"estimating-parameter\"></a>\n",
    "\n",
    "Once the evaluation function has been obtained, we can proceed to implement the gradient descent algorithm. First we will define the variables used:"
   ]
  },
  {
   "cell_type": "code",
   "execution_count": 222,
   "metadata": {},
   "outputs": [
    {
     "name": "stdout",
     "output_type": "stream",
     "text": [
      "Initial theta:  0.20985124453651727\n",
      "Initial function value:  0.7522306062890314\n"
     ]
    }
   ],
   "source": [
    "learning_rate = 0.05 # Learning rate or alpha value used for gradient descent\n",
    "max_iteration = 1000 # Max number of iteration to avoid infinite looping\n",
    "precision = 0.1 # Precision, we want to get as close to zero when evaluating F(θ) as possible.\n",
    "measurements = 1000 # Number of measurements of the circuit\n",
    "theta = random.random() # Initialize theta as a random value\n",
    "h_value = 0.01 # h value used in the finite difference method to estimate the derivative of F\n",
    "\n",
    "function_value = evaluateFunction(theta, measurements) # Calculate the initial estimated value for the initial parameter\n",
    "\n",
    "print(\"Initial theta: \", theta)\n",
    "print(\"Initial function value: \", function_value)"
   ]
  },
  {
   "cell_type": "markdown",
   "metadata": {},
   "source": [
    "We will also keep track of all values of the function obtained and all angles used as parameters:"
   ]
  },
  {
   "cell_type": "code",
   "execution_count": 223,
   "metadata": {},
   "outputs": [],
   "source": [
    "vector_thetas = [theta] # List of all values of thetas calculated\n",
    "vector_function_values = [function_value] # List of all values of the function obtained"
   ]
  },
  {
   "cell_type": "markdown",
   "metadata": {},
   "source": [
    "We are now ready to solve the task using the gradient descent method:"
   ]
  },
  {
   "cell_type": "code",
   "execution_count": 224,
   "metadata": {},
   "outputs": [],
   "source": [
    "iteration = 0 \n",
    "vector_iteration = [iteration] # List of indexes of iterations\n",
    "\n",
    "# We will keep iterating until the loss function evaluation is less than the precision required or the \n",
    "# number of max iterations allowed is overpassed\n",
    "while np.linalg.norm(function_value) > precision and iteration < max_iteration: \n",
    "    \n",
    "    # Calculate the derivative using the finite difference method\n",
    "    finite_difference = (evaluateFunction(theta + h_value, measurements) - evaluateFunction(theta, measurements)) / h_value\n",
    "    \n",
    "    # New value of theta is calculated\n",
    "    theta = theta - learning_rate * finite_difference\n",
    "    function_value = evaluateFunction(theta, measurements)\n",
    "    \n",
    "    # Save all information related to the execution of this iteration\n",
    "    vector_thetas.append(theta)\n",
    "    vector_function_values.append(function_value)\n",
    "    iteration += 1\n",
    "    vector_iteration.append(iteration)"
   ]
  },
  {
   "cell_type": "code",
   "execution_count": 225,
   "metadata": {},
   "outputs": [
    {
     "name": "stdout",
     "output_type": "stream",
     "text": [
      "Optimal theta:  1.5707963267948966\n",
      "Estimation theta: 1.5666871396127189\n"
     ]
    }
   ],
   "source": [
    "print(\"Optimal theta: \", np.pi/2)\n",
    "print(\"Estimation theta:\", theta)"
   ]
  },
  {
   "cell_type": "markdown",
   "metadata": {},
   "source": [
    "We can also plot all the information related to the iteration process. The following graphical representation shows the evolution of the parameter over time with a blue line, we also introduced an horizontal line with the optimal value of the angle:"
   ]
  },
  {
   "cell_type": "code",
   "execution_count": 226,
   "metadata": {},
   "outputs": [
    {
     "data": {
      "image/png": "[encoded data removed]",
      "text/plain": [
       "<Figure size 432x288 with 1 Axes>"
      ]
     },
     "metadata": {
      "needs_background": "light"
     },
     "output_type": "display_data"
    }
   ],
   "source": [
    "plt.plot(vector_iteration,vector_thetas,color='#0000ff')\n",
    "plt.axhline(y=np.pi/2,color='#0F0F0F',ls='--')\n",
    "plt.xlabel('Iteration Number')\n",
    "plt.ylabel('Parameter estimation')\n",
    "plt.show()"
   ]
  },
  {
   "cell_type": "markdown",
   "metadata": {},
   "source": [
    "Also, we can plot the data related to the loss function. Here we represent the evolution of the loss function with a red line:"
   ]
  },
  {
   "cell_type": "code",
   "execution_count": 272,
   "metadata": {},
   "outputs": [
    {
     "data": {
      "image/png": "[encoded data removed]",
      "text/plain": [
       "<Figure size 432x288 with 1 Axes>"
      ]
     },
     "metadata": {
      "needs_background": "light"
     },
     "output_type": "display_data"
    }
   ],
   "source": [
    "plt.plot(vector_iteration,vector_function_values,color='#ff0000')\n",
    "plt.xlabel('Iteration Number')\n",
    "plt.ylabel('Loss function')\n",
    "plt.show()"
   ]
  },
  {
   "cell_type": "markdown",
   "metadata": {},
   "source": [
    "# General Solution to the task <a class=\"anchor\" id=\"general-solution\"></a>\n",
    "\n",
    "The circuit presented above solves the problem of designing a circuit which outputs |00> and |11> with equal probability using just CNOTs, RYs and RXs gates. We started with a parameter randomly generated and through an optimization process we obtain an optimal parameter theta which makes the circuit behaves as expected. \n",
    "\n",
    "In order to compare the algorithm using different number of measurements we present now a more parametrized and compact form of the solution:\n"
   ]
  },
  {
   "cell_type": "code",
   "execution_count": 235,
   "metadata": {},
   "outputs": [],
   "source": [
    "def simpleCircuitGenerator(parameters):\n",
    "    theta = parameters[0]\n",
    "    circuit = QuantumCircuit(2,2) \n",
    "    circuit.ry(theta,0) \n",
    "    circuit.cx(0,1)\n",
    "    circuit.measure([0,1],[0,1])\n",
    "    return circuit"
   ]
  },
  {
   "cell_type": "code",
   "execution_count": 236,
   "metadata": {},
   "outputs": [],
   "source": [
    "def simpleLossFunction(circuitGenerator, parameters, measurements):\n",
    "    results = execute(circuitGenerator(parameters), backend=BasicAer.get_backend('qasm_simulator'), \n",
    "                      shots=measurements).result().get_counts()\n",
    "    c_vector = np.array([0,0,0,0])\n",
    "    c_vector[0] = results.get(\"00\", 0)\n",
    "    c_vector[1] = results.get(\"01\", 0)\n",
    "    c_vector[2] = results.get(\"10\", 0)\n",
    "    c_vector[3] = results.get(\"11\", 0)\n",
    "    c_vector = c_vector / np.linalg.norm(c_vector,ord=2)\n",
    "    objective_vector = np.array([1/np.sqrt(2), 0,0, 1/np.sqrt(2)])\n",
    "    return np.linalg.norm(objective_vector - c_vector, ord=2)"
   ]
  },
  {
   "cell_type": "code",
   "execution_count": 264,
   "metadata": {},
   "outputs": [],
   "source": [
    "class VectorEstimation:\n",
    "    \n",
    "    def __init__(self, circuitGenerator, initial_parameters, lossFunction, precision = 0.1, \n",
    "                 learning_rate = 0.05, max_iteration = 1000, measurements = 1000, h_value = 0.01):\n",
    "        \n",
    "        self.circuitGenerator = circuitGenerator\n",
    "        self.lossFunction = lossFunction\n",
    "        self.initial_parameters = initial_parameters\n",
    "        self.precision = precision\n",
    "        self.learning_rate = learning_rate\n",
    "        self.max_iteration = max_iteration\n",
    "        self.measurements = measurements\n",
    "        self.h_value = h_value\n",
    "        \n",
    "        self.vector_parameters = []\n",
    "        self.vector_loss_values = []\n",
    "        self.vector_iteration = []\n",
    "        self.iteration = 0 \n",
    "        \n",
    "    def estimate(self):\n",
    "        \n",
    "        loss_value = self.lossFunction(self.circuitGenerator, self.initial_parameters, self.measurements)\n",
    "        current_parameters = self.initial_parameters\n",
    "        \n",
    "        self.vector_parameters.append(current_parameters)\n",
    "        self.vector_iteration.append(self.iteration)\n",
    "        self.vector_loss_values.append(loss_value)\n",
    "        \n",
    "        while np.linalg.norm(loss_value) > self.precision and self.iteration < self.max_iteration:\n",
    "            new_parameters = current_parameters.copy()\n",
    "            for index,parameter in enumerate(current_parameters):\n",
    "                new_parameters[index] = self.__calculateFiniteDifference(index, current_parameters)\n",
    "                \n",
    "            for index,derivative in enumerate(new_parameters):\n",
    "                current_parameters[index] = current_parameters[index] - self.learning_rate * derivative\n",
    "            \n",
    "            loss_value = self.lossFunction(self.circuitGenerator, current_parameters, self.measurements)\n",
    "            \n",
    "            self.iteration += 1\n",
    "            self.vector_parameters.append(current_parameters.copy())\n",
    "            self.vector_iteration.append(self.iteration)\n",
    "            self.vector_loss_values.append(loss_value)\n",
    "        \n",
    "        self.optimal_parameters = current_parameters\n",
    "        return self.optimal_parameters, loss_value\n",
    "    \n",
    "    def __calculateFiniteDifference(self, index, current_parameters):\n",
    "        parameters = current_parameters.copy()\n",
    "        parameters[index] += self.h_value\n",
    "        finite_difference = (self.lossFunction(self.circuitGenerator, parameters, self.measurements) \n",
    "                             - self.lossFunction(self.circuitGenerator, current_parameters, self.measurements)) / h_value\n",
    "        return finite_difference\n",
    "    \n",
    "    def getVectorParameters(self):\n",
    "        return self.vector_parameters\n",
    "    \n",
    "    def getVectorLossValues(self):\n",
    "        return self.vector_loss_values\n",
    "    \n",
    "    def getVectorIterationValues(self):\n",
    "        return self.vector_iteration\n",
    "    \n",
    "    "
   ]
  },
  {
   "cell_type": "markdown",
   "metadata": {},
   "source": [
    "Now we can proceed to use our VectorEstimation class to carry out optimization using a generic circuit generator and a loss function which leads to a minimum value in the objective vector state. Also, parameters are now highly configurable and we can repeat the experiment with different number of measurements (note that the parameters of the circuit generator are also generic now and they are given as a list):"
   ]
  },
  {
   "cell_type": "code",
   "execution_count": 265,
   "metadata": {},
   "outputs": [],
   "source": [
    "task2solution = VectorEstimation(circuitGenerator = simpleCircuitGenerator, lossFunction = simpleLossFunction, \n",
    "                                 initial_parameters = [random.random()], measurements = 1000)"
   ]
  },
  {
   "cell_type": "code",
   "execution_count": 266,
   "metadata": {},
   "outputs": [
    {
     "data": {
      "text/plain": [
       "([1.5534689520698999], 0.031987720120194484)"
      ]
     },
     "execution_count": 266,
     "metadata": {},
     "output_type": "execute_result"
    }
   ],
   "source": [
    "task2solution.estimate()"
   ]
  },
  {
   "cell_type": "code",
   "execution_count": 269,
   "metadata": {
    "scrolled": true
   },
   "outputs": [
    {
     "data": {
      "image/png": "[encoded data removed]",
      "text/plain": [
       "<Figure size 432x288 with 1 Axes>"
      ]
     },
     "metadata": {
      "needs_background": "light"
     },
     "output_type": "display_data"
    }
   ],
   "source": [
    "plt.plot(task2solution.getVectorIterationValues(),task2solution.getVectorParameters(),color='#0000ff')\n",
    "plt.axhline(y=np.pi/2,color='#0F0F0F',ls='--')\n",
    "plt.xlabel('Iteration Number')\n",
    "plt.ylabel('Parameter estimation')\n",
    "plt.show()"
   ]
  },
  {
   "cell_type": "code",
   "execution_count": 271,
   "metadata": {
    "scrolled": true
   },
   "outputs": [
    {
     "data": {
      "image/png": "[encoded data removed]",
      "text/plain": [
       "<Figure size 432x288 with 1 Axes>"
      ]
     },
     "metadata": {
      "needs_background": "light"
     },
     "output_type": "display_data"
    }
   ],
   "source": [
    "plt.plot(task2solution.getVectorIterationValues(),task2solution.getVectorLossValues(),color='#ff0000')\n",
    "plt.xlabel('Iteration Number')\n",
    "plt.ylabel('Loss function')\n",
    "plt.show()"
   ]
  },
  {
   "cell_type": "markdown",
   "metadata": {},
   "source": [
    "### Comparing results for different measurements\n",
    "\n"
   ]
  },
  {
   "cell_type": "code",
   "execution_count": null,
   "metadata": {},
   "outputs": [],
   "source": []
  }
 ],
 "metadata": {
  "kernelspec": {
   "display_name": "Python 3",
   "language": "python",
   "name": "python3"
  },
  "language_info": {
   "codemirror_mode": {
    "name": "ipython",
    "version": 3
   },
   "file_extension": ".py",
   "mimetype": "text/x-python",
   "name": "python",
   "nbconvert_exporter": "python",
   "pygments_lexer": "ipython3",
   "version": "3.7.3"
  }
 },
 "nbformat": 4,
 "nbformat_minor": 2
}
